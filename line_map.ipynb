{
 "cells": [
  {
   "cell_type": "code",
   "execution_count": null,
   "metadata": {},
   "outputs": [],
   "source": [
    "import pandas as pd\n",
    "import geopandas as gpd\n",
    "import fiona \n",
    "import shutil\n",
    "\n",
    "fiona.drvsupport.supported_drivers[\"libkml\"]=\"rw\"\n",
    "fiona.drvsupport.supported_drivers[\"LIBKML\"]=\"rw\"\n",
    "fiona.supported_drivers\n",
    "\n",
    "print(f\"geopandas version {gpd.__version__}\")\n",
    "print(f\"fiona version {fiona.__version__}\")\n",
    "print(pd.Timestamp.now())\n"
   ]
  }
 ],
 "metadata": {
  "kernelspec": {
   "display_name": "Python 3.9.12 64-bit ('anaconda3')",
   "language": "python",
   "name": "python3"
  },
  "language_info": {
   "name": "python",
   "version": "3.9.12"
  },
  "orig_nbformat": 4,
  "vscode": {
   "interpreter": {
    "hash": "3067ead486e059ec00ffe7555bdb889e6e264a24dc711bf108106cc7baee8d5d"
   }
  }
 },
 "nbformat": 4,
 "nbformat_minor": 2
}
